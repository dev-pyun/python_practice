{
  "nbformat": 4,
  "nbformat_minor": 0,
  "metadata": {
    "colab": {
      "name": "컴핵_002_17_2021-18851_편채범.ipynb",
      "provenance": [],
      "collapsed_sections": [],
      "authorship_tag": "ABX9TyP96RWcEwIOPR4zX2RCQ+Ms",
      "include_colab_link": true
    },
    "kernelspec": {
      "name": "python3",
      "display_name": "Python 3"
    },
    "language_info": {
      "name": "python"
    }
  },
  "cells": [
    {
      "cell_type": "markdown",
      "metadata": {
        "id": "view-in-github",
        "colab_type": "text"
      },
      "source": [
        "<a href=\"https://colab.research.google.com/github/dev-pyun/python_practice/blob/main/%EC%BB%B4%ED%95%B5_002_17_2021_18851_%ED%8E%B8%EC%B1%84%EB%B2%94.ipynb\" target=\"_parent\"><img src=\"https://colab.research.google.com/assets/colab-badge.svg\" alt=\"Open In Colab\"/></a>"
      ]
    },
    {
      "cell_type": "markdown",
      "metadata": {
        "id": "Go8zQptdKfrz"
      },
      "source": [
        "#실습 1 (9/3)\n"
      ]
    },
    {
      "cell_type": "code",
      "metadata": {
        "colab": {
          "base_uri": "https://localhost:8080/"
        },
        "id": "nBUP8-HbH5xz",
        "outputId": "07a589ad-07c6-4256-bb55-f269c72be3fe"
      },
      "source": [
        "#여기는 실습만 작성하는 곳입니다.\n",
        "2 + 2"
      ],
      "execution_count": null,
      "outputs": [
        {
          "output_type": "execute_result",
          "data": {
            "text/plain": [
              "4"
            ]
          },
          "metadata": {},
          "execution_count": 2
        }
      ]
    },
    {
      "cell_type": "code",
      "metadata": {
        "colab": {
          "base_uri": "https://localhost:8080/"
        },
        "id": "L-JHU3VwLayF",
        "outputId": "1daec4b9-4795-4adb-d31d-69f21e5ba1d8"
      },
      "source": [
        "10/3"
      ],
      "execution_count": null,
      "outputs": [
        {
          "output_type": "execute_result",
          "data": {
            "text/plain": [
              "3.3333333333333335"
            ]
          },
          "metadata": {},
          "execution_count": 4
        }
      ]
    },
    {
      "cell_type": "code",
      "metadata": {
        "id": "BngTkflaOt8j",
        "colab": {
          "base_uri": "https://localhost:8080/"
        },
        "outputId": "98476505-f121-422c-fdbc-1a8bcbe0cc35"
      },
      "source": [
        "print('hello')"
      ],
      "execution_count": null,
      "outputs": [
        {
          "output_type": "stream",
          "name": "stdout",
          "text": [
            "hello\n"
          ]
        }
      ]
    },
    {
      "cell_type": "markdown",
      "metadata": {
        "id": "oh6aVRNQLlf8"
      },
      "source": [
        "#실습 2 (9/10)"
      ]
    },
    {
      "cell_type": "markdown",
      "metadata": {
        "id": "FW4asX7cBbrM"
      },
      "source": [
        "##Problem_1"
      ]
    },
    {
      "cell_type": "code",
      "metadata": {
        "colab": {
          "base_uri": "https://localhost:8080/"
        },
        "id": "tGdpp844BbCh",
        "outputId": "a6e2787f-9edb-4f04-e6ca-a0d24cfbf291"
      },
      "source": [
        "print(\"'Python' isn't difficult.\\n He said, \\\"Python is very easy.\\\" \\n\")\n",
        "\n",
        "# 방법 2\n",
        "print(\"'Python' isn't difficult.\")\n",
        "print('He said, \"Python is very easy.\"')\n",
        "print()\n",
        "\n",
        "# 방법 3: multiline string(여러줄의 문자열을 출력할 때, 작은따옴표 연속 세개로 묶는 기능)\n",
        "print(''''Python' isn't difficult.\n",
        "He said, \"Python is very easy.\"''')\n",
        "\n"
      ],
      "execution_count": 10,
      "outputs": [
        {
          "output_type": "stream",
          "name": "stdout",
          "text": [
            "'Python' isn't difficult.\n",
            " He said, \"Python is very easy.\" \n",
            "\n",
            "'Python' isn't difficult.\n",
            "He said, \"Python is very easy.\"\n",
            "\n",
            "'Python' isn't difficult.\n",
            "He said, \"Python is very easy.\"\n"
          ]
        }
      ]
    },
    {
      "cell_type": "markdown",
      "metadata": {
        "id": "anI1-zluBy4F"
      },
      "source": [
        "##Problem_2: BMI 계산 프로그램"
      ]
    },
    {
      "cell_type": "code",
      "metadata": {
        "colab": {
          "base_uri": "https://localhost:8080/"
        },
        "id": "qHk8p_q9B0hV",
        "outputId": "f886a6ba-c71a-4685-c8c6-bf639f020d78"
      },
      "source": [
        "print('신장(cm)와 체중(kg)을 입력')\n",
        "cm = int(input())\n",
        "kg = float(input())\n",
        "BMI = kg / ((cm/100)**2)\n",
        "BMI = round(BMI, 2)\n",
        "# num: .2f 방식으로 써도 반올림 가능\n",
        "# int와 round 차이: int는 그냥 내림, round는 반올림임.\n",
        "\n",
        "print(f'BMI:{BMI}')"
      ],
      "execution_count": 22,
      "outputs": [
        {
          "output_type": "stream",
          "name": "stdout",
          "text": [
            "신장(cm)와 체중(kg)을 입력\n",
            "190\n",
            "190\n",
            "BMI:52.63\n"
          ]
        }
      ]
    },
    {
      "cell_type": "code",
      "metadata": {
        "colab": {
          "base_uri": "https://localhost:8080/"
        },
        "id": "5Fr9yGiTVAfX",
        "outputId": "2885e2de-749a-4c61-ef33-efe209ad72c2"
      },
      "source": [
        "int(7.9)\n",
        "print(f'BMI:{BMI:.2f}')\n"
      ],
      "execution_count": 24,
      "outputs": [
        {
          "output_type": "stream",
          "name": "stdout",
          "text": [
            "BMI:52.63\n"
          ]
        }
      ]
    },
    {
      "cell_type": "markdown",
      "metadata": {
        "id": "DF30QrXmB0_X"
      },
      "source": [
        "##Problem_3: 원 넓이 계산기"
      ]
    },
    {
      "cell_type": "code",
      "metadata": {
        "colab": {
          "base_uri": "https://localhost:8080/"
        },
        "id": "CTg3pFZ9B-CW",
        "outputId": "157a07b7-f7a2-43b9-c48c-dc6052324e91"
      },
      "source": [
        "from math import pi\n",
        "\n",
        "rad = int(input(\"원의 반지름 \"))\n",
        "\n",
        "area = rad**2 * pi\n",
        "around = 2 * pi * rad\n",
        "\n",
        "print(f\"원의 넓이 {area:.2f}\")\n",
        "print(f\"원의 둘레 {around:.2f}\")"
      ],
      "execution_count": 29,
      "outputs": [
        {
          "output_type": "stream",
          "name": "stdout",
          "text": [
            "원의 반지름 3\n",
            "원의 넓이 28.27\n",
            "원의 둘레 18.85\n"
          ]
        }
      ]
    },
    {
      "cell_type": "markdown",
      "metadata": {
        "id": "Zr2UuoYbXKyp"
      },
      "source": [
        "##Problem_4: 할아버지가 외치는 무야호\n",
        "반복문을 찾으려면 어디에서, 무엇이 반복되는지를 체크하기!"
      ]
    },
    {
      "cell_type": "code",
      "metadata": {
        "colab": {
          "base_uri": "https://localhost:8080/"
        },
        "id": "ddRRMz7SXRCO",
        "outputId": "d168a571-bb42-4f48-872b-8d3807ad338b"
      },
      "source": [
        "for i in range(1, 6):\n",
        "  print(\"Grandfather: Muyaho ~~\\n\")\n",
        "  print(f\"Number of times grandfather shouted Muyaho: {i}\\n\")\n",
        "\n",
        "\n",
        "# 굳이 f-string을 안썼어도 될 것 같네용\n",
        "# while: 반복에 특화되어 있음.\n",
        "# for: 순회에 특화되어 있음. (~의 범위 안에서)\n",
        "# range: ~이상, ~미만, ~의 간격으로"
      ],
      "execution_count": 31,
      "outputs": [
        {
          "output_type": "stream",
          "name": "stdout",
          "text": [
            "Grandfather: Muyaho ~~\n",
            "\n",
            "Number of times grandfather shouted Muyaho: 1\n",
            "\n",
            "Grandfather: Muyaho ~~\n",
            "\n",
            "Number of times grandfather shouted Muyaho: 2\n",
            "\n",
            "Grandfather: Muyaho ~~\n",
            "\n",
            "Number of times grandfather shouted Muyaho: 3\n",
            "\n",
            "Grandfather: Muyaho ~~\n",
            "\n",
            "Number of times grandfather shouted Muyaho: 4\n",
            "\n",
            "Grandfather: Muyaho ~~\n",
            "\n",
            "Number of times grandfather shouted Muyaho: 5\n",
            "\n"
          ]
        }
      ]
    },
    {
      "cell_type": "markdown",
      "metadata": {
        "id": "X_ZMy8NaZW60"
      },
      "source": [
        "##Problem_5: asterisk로 피라미드 만들기"
      ]
    },
    {
      "cell_type": "code",
      "metadata": {
        "colab": {
          "base_uri": "https://localhost:8080/"
        },
        "id": "eHI7je6YZ0G8",
        "outputId": "a8de75f8-4359-4caf-b5cc-9830484ef1a1"
      },
      "source": [
        "for i in range(1, 11):\n",
        "  print('*'* i)\n",
        "\n",
        "\n",
        "# indentation이 파이썬의 핵심입니당"
      ],
      "execution_count": 32,
      "outputs": [
        {
          "output_type": "stream",
          "name": "stdout",
          "text": [
            "*\n",
            "**\n",
            "***\n",
            "****\n",
            "*****\n",
            "******\n",
            "*******\n",
            "********\n",
            "*********\n",
            "**********\n"
          ]
        }
      ]
    },
    {
      "cell_type": "code",
      "metadata": {
        "colab": {
          "base_uri": "https://localhost:8080/"
        },
        "id": "UuG0fpj9c_hi",
        "outputId": "1dff1e6f-1da5-4db3-bdfd-6f7816adb951"
      },
      "source": [
        "# 추가적으로 할만한 것\n",
        "for i in range(1, 11):\n",
        "  print(' '* i + '*' * (10 - i))"
      ],
      "execution_count": 34,
      "outputs": [
        {
          "output_type": "stream",
          "name": "stdout",
          "text": [
            " *********\n",
            "  ********\n",
            "   *******\n",
            "    ******\n",
            "     *****\n",
            "      ****\n",
            "       ***\n",
            "        **\n",
            "         *\n",
            "          \n"
          ]
        }
      ]
    }
  ]
}